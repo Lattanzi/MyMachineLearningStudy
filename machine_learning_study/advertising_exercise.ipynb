{
 "cells": [
  {
   "cell_type": "markdown",
   "id": "09de191c",
   "metadata": {},
   "source": [
    "#### Imports"
   ]
  },
  {
   "cell_type": "code",
   "execution_count": 12,
   "id": "55f51442",
   "metadata": {},
   "outputs": [],
   "source": [
    "import pandas as pd\n",
    "from sklearn.model_selection import train_test_split\n",
    "from sklearn.linear_model import LinearRegression\n",
    "from sklearn import metrics\n",
    "import numpy as np"
   ]
  },
  {
   "cell_type": "code",
   "execution_count": 16,
   "id": "70c397ca",
   "metadata": {},
   "outputs": [],
   "source": [
    "tests = [['TV','Radio','Newspaper'],['Radio','Newspaper'],['TV','Newspaper'],['TV','Radio']]\n",
    "winner = {'test':'','performance': None}\n",
    "first_pass = True\n",
    "publi = pd.read_csv('Advertising.csv', index_col=0)"
   ]
  },
  {
   "cell_type": "code",
   "execution_count": 17,
   "id": "1e44ec3a",
   "metadata": {},
   "outputs": [
    {
     "name": "stdout",
     "output_type": "stream",
     "text": [
      "Test:\n",
      "['TV', 'Radio', 'Newspaper']\n",
      "Performance:\n",
      "1.5825316802028764\n",
      "__________________________\n",
      "Test:\n",
      "['Radio', 'Newspaper']\n",
      "Performance:\n",
      "4.044704848174973\n",
      "__________________________\n",
      "Test:\n",
      "['TV', 'Newspaper']\n",
      "Performance:\n",
      "3.0951606645546454\n",
      "__________________________\n",
      "Test:\n",
      "['TV', 'Radio']\n",
      "Performance:\n",
      "1.5821239241271168\n",
      "__________________________\n",
      "_____________________________\n",
      "Winner: \n",
      "['TV', 'Radio']\n",
      "Winner Performance: \n",
      "1.5821239241271168\n"
     ]
    }
   ],
   "source": [
    "for teste in tests:\n",
    "    x = publi[teste]\n",
    "    y = publi['Sales']\n",
    "    x_train, x_test, y_train, y_test = train_test_split(x,y, test_size=0.3, random_state=5)\n",
    "    linReg = LinearRegression()\n",
    "    linReg.fit(x_train,y_train)\n",
    "    y_pred = linReg.predict(x_test)\n",
    "    rmse = np.sqrt(metrics.mean_squared_error(y_test,y_pred))\n",
    "    print('Test:')\n",
    "    print(teste)\n",
    "    print('Performance:')\n",
    "    print(rmse)\n",
    "    print('__________________________')\n",
    "    \n",
    "    if (first_pass):\n",
    "        winner['teste'] = teste\n",
    "        winner['performance'] = rmse\n",
    "        first_pass = False\n",
    "    else:\n",
    "        if (rmse < winner['performance']):\n",
    "            winner['teste'] = teste\n",
    "            winner['performance'] = rmse\n",
    "\n",
    "print('_____________________________')\n",
    "print('Winner: ')\n",
    "print(winner['teste'])\n",
    "print('Winner Performance: ')\n",
    "print(winner['performance'])"
   ]
  },
  {
   "cell_type": "code",
   "execution_count": null,
   "id": "22e4c889",
   "metadata": {},
   "outputs": [],
   "source": []
  }
 ],
 "metadata": {
  "kernelspec": {
   "display_name": "Python 3 (ipykernel)",
   "language": "python",
   "name": "python3"
  },
  "language_info": {
   "codemirror_mode": {
    "name": "ipython",
    "version": 3
   },
   "file_extension": ".py",
   "mimetype": "text/x-python",
   "name": "python",
   "nbconvert_exporter": "python",
   "pygments_lexer": "ipython3",
   "version": "3.9.5"
  }
 },
 "nbformat": 4,
 "nbformat_minor": 5
}

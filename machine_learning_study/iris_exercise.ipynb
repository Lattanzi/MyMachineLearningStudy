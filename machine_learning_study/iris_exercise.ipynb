{
 "cells": [
  {
   "cell_type": "markdown",
   "id": "0aa3fa0b",
   "metadata": {},
   "source": [
    "#### Crie um loop para rodar o modelo knn com valores de K, de 1 a 25. Faça o teste de performance para cada um dos valores de K e apresente os resultados."
   ]
  },
  {
   "cell_type": "code",
   "execution_count": 2,
   "id": "d0f239b9",
   "metadata": {},
   "outputs": [],
   "source": [
    "from sklearn.datasets import load_iris\n",
    "iris = load_iris()\n",
    "x = iris.data\n",
    "y = iris.target\n",
    "from sklearn.model_selection import train_test_split\n",
    "x_train, x_test, y_train, y_test = train_test_split(x,y,test_size=0.25)"
   ]
  },
  {
   "cell_type": "code",
   "execution_count": 4,
   "id": "4b2f0788",
   "metadata": {},
   "outputs": [
    {
     "name": "stdout",
     "output_type": "stream",
     "text": [
      "{1: 0.9737, 2: 0.9474, 3: 0.9737, 4: 0.9474, 5: 0.9737, 6: 0.9737, 7: 0.9737, 8: 1.0, 9: 0.9737, 10: 0.9737, 11: 0.9737, 12: 0.9737, 13: 0.9737, 14: 0.9737, 15: 0.9737, 16: 0.9737, 17: 0.9737, 18: 0.9737, 19: 0.9737, 20: 0.9737, 21: 0.9737, 22: 0.9737, 23: 0.9737, 24: 0.9737, 25: 0.9737}\n"
     ]
    }
   ],
   "source": [
    "from sklearn.neighbors import KNeighborsClassifier\n",
    "from sklearn import metrics\n",
    "\n",
    "\n",
    "performance_values = {}\n",
    "k = 1\n",
    "\n",
    "while k <= 25:\n",
    "    knn = KNeighborsClassifier(n_neighbors=k)\n",
    "    knn.fit(x_train,y_train)\n",
    "    predicts = knn.predict(x_test)\n",
    "    accuracy = metrics.accuracy_score(y_test,predicts)\n",
    "    performance_values[k] = round(accuracy, 4)\n",
    "    k += 1\n",
    "\n",
    "print(performance_values)"
   ]
  },
  {
   "cell_type": "code",
   "execution_count": 5,
   "id": "f5429fd1",
   "metadata": {},
   "outputs": [
    {
     "data": {
      "image/png": "[encoded data removed]",
      "text/plain": [
       "<Figure size 432x288 with 1 Axes>"
      ]
     },
     "metadata": {
      "needs_background": "light"
     },
     "output_type": "display_data"
    }
   ],
   "source": [
    "import matplotlib.pyplot as plt\n",
    "\n",
    "\n",
    "plt.plot(list(performance_values.keys()),list(performance_values.values()))\n",
    "plt.xlabel('K values')\n",
    "plt.ylabel('Performance')\n",
    "plt.show()\n"
   ]
  },
  {
   "cell_type": "code",
   "execution_count": null,
   "id": "ad59a8b4",
   "metadata": {},
   "outputs": [],
   "source": []
  }
 ],
 "metadata": {
  "kernelspec": {
   "display_name": "Python 3 (ipykernel)",
   "language": "python",
   "name": "python3"
  },
  "language_info": {
   "codemirror_mode": {
    "name": "ipython",
    "version": 3
   },
   "file_extension": ".py",
   "mimetype": "text/x-python",
   "name": "python",
   "nbconvert_exporter": "python",
   "pygments_lexer": "ipython3",
   "version": "3.9.5"
  }
 },
 "nbformat": 4,
 "nbformat_minor": 5
}

{
 "cells": [
  {
   "cell_type": "code",
   "execution_count": 18,
   "id": "017c487c",
   "metadata": {},
   "outputs": [],
   "source": [
    "from sklearn import datasets\n",
    "\n",
    "\n",
    "digits = datasets.load_digits()"
   ]
  },
  {
   "cell_type": "code",
   "execution_count": 19,
   "id": "63c3223a",
   "metadata": {},
   "outputs": [
    {
     "name": "stdout",
     "output_type": "stream",
     "text": [
      "(1797, 64)\n",
      "(1797,)\n"
     ]
    }
   ],
   "source": [
    "print(digits.data.shape)\n",
    "print(digits.target.shape)"
   ]
  },
  {
   "cell_type": "code",
   "execution_count": 56,
   "id": "72a6fb6f",
   "metadata": {},
   "outputs": [
    {
     "name": "stdout",
     "output_type": "stream",
     "text": [
      "[[ 0.  0.  1. 11. 15.  8.  0.  0.]\n",
      " [ 0.  0. 12. 14. 10. 16.  5.  0.]\n",
      " [ 0.  0. 16.  7. 13. 16.  4.  0.]\n",
      " [ 0.  0.  9. 15. 13. 16.  4.  0.]\n",
      " [ 0.  0.  0.  0.  1. 15.  4.  0.]\n",
      " [ 0.  0.  0.  0.  0. 16.  4.  0.]\n",
      " [ 0.  8. 16. 14.  9. 16.  4.  0.]\n",
      " [ 0.  0.  2. 10. 15. 15.  2.  0.]]\n"
     ]
    }
   ],
   "source": [
    "print(digits.images[128])\n",
    "#print(digits.data[128].shape)\n",
    "#print(type(digits.data[128]))"
   ]
  },
  {
   "cell_type": "code",
   "execution_count": 43,
   "id": "c50702ab",
   "metadata": {
    "scrolled": true
   },
   "outputs": [
    {
     "data": {
      "text/plain": [
       "<matplotlib.image.AxesImage at 0x2e45efbb160>"
      ]
     },
     "execution_count": 43,
     "metadata": {},
     "output_type": "execute_result"
    },
    {
     "data": {
      "image/png": "[encoded data removed]",
      "text/plain": [
       "<Figure size 144x144 with 1 Axes>"
      ]
     },
     "metadata": {
      "needs_background": "light"
     },
     "output_type": "display_data"
    }
   ],
   "source": [
    "import matplotlib.pyplot as plt\n",
    "\n",
    "\n",
    "%matplotlib inline\n",
    "\n",
    "plt.figure(figsize=(2,2))\n",
    "plt.imshow(digits.images[128], cmap=plt.cm.gray_r)"
   ]
  },
  {
   "cell_type": "markdown",
   "id": "65562175",
   "metadata": {},
   "source": [
    "## SVM Aplication"
   ]
  },
  {
   "cell_type": "code",
   "execution_count": 44,
   "id": "89490653",
   "metadata": {},
   "outputs": [],
   "source": [
    "from sklearn.model_selection import train_test_split\n",
    "\n",
    "\n",
    "x = digits.data\n",
    "y = digits.target\n",
    "x_train, x_test, y_train, y_test = train_test_split(x,y, test_size=0.3, random_state=5)"
   ]
  },
  {
   "cell_type": "code",
   "execution_count": 61,
   "id": "23cd8c64",
   "metadata": {},
   "outputs": [
    {
     "data": {
      "text/plain": [
       "SVC()"
      ]
     },
     "execution_count": 61,
     "metadata": {},
     "output_type": "execute_result"
    }
   ],
   "source": [
    "from sklearn import svm\n",
    "from sklearn import metrics\n",
    "\n",
    "\n",
    "classifier = svm.SVC()\n",
    "#classifier.fit(x_train,y_train)\n",
    "classifier.fit(x,y)\n",
    "#predicts = classifier.predict(x_test)\n",
    "#accuracy = metrics.accuracy_score(y_test,predicts)\n",
    "\n",
    "#print(accuracy)"
   ]
  },
  {
   "cell_type": "markdown",
   "id": "50872ccc",
   "metadata": {},
   "source": [
    "### Digit image read"
   ]
  },
  {
   "cell_type": "code",
   "execution_count": 67,
   "id": "9c9ac272",
   "metadata": {},
   "outputs": [
    {
     "name": "stdout",
     "output_type": "stream",
     "text": [
      "[8]\n"
     ]
    }
   ],
   "source": [
    "import numpy as np\n",
    "import matplotlib.image as mpimg\n",
    "\n",
    "\n",
    "img = mpimg.imread('number2.png')\n",
    "\n",
    "#print(img)\n",
    "\n",
    "#search for rgb2gray for more details\n",
    "def rgb2grey(rgb):\n",
    "    img_array = np.dot(rgb[...,:3],[0.299,0.587,0.114]) #numpy method - dot = array1*array2\n",
    "    #print(img_array)\n",
    "    img_array = (16-(img_array*16)).astype(int)\n",
    "    #print(img_array)\n",
    "    img_array = img_array.flatten()\n",
    "    #print(img_array)\n",
    "    #print(img_array.shape)\n",
    "    #print(type(img_array))\n",
    "    return img_array\n",
    "    \n",
    "#rgb2grey(img)\n",
    "predict_ = classifier.predict([rgb2grey(img)])\n",
    "print(predict_)"
   ]
  },
  {
   "cell_type": "markdown",
   "id": "5f8a7724",
   "metadata": {},
   "source": [
    "### Logistic Regression Test"
   ]
  },
  {
   "cell_type": "code",
   "execution_count": 68,
   "id": "ad666a42",
   "metadata": {},
   "outputs": [
    {
     "name": "stdout",
     "output_type": "stream",
     "text": [
      "[8]\n"
     ]
    },
    {
     "name": "stderr",
     "output_type": "stream",
     "text": [
      "c:\\users\\lucas\\appdata\\local\\programs\\python\\python39\\lib\\site-packages\\sklearn\\linear_model\\_logistic.py:763: ConvergenceWarning: lbfgs failed to converge (status=1):\n",
      "STOP: TOTAL NO. of ITERATIONS REACHED LIMIT.\n",
      "\n",
      "Increase the number of iterations (max_iter) or scale the data as shown in:\n",
      "    https://scikit-learn.org/stable/modules/preprocessing.html\n",
      "Please also refer to the documentation for alternative solver options:\n",
      "    https://scikit-learn.org/stable/modules/linear_model.html#logistic-regression\n",
      "  n_iter_i = _check_optimize_result(\n"
     ]
    }
   ],
   "source": [
    "from sklearn.linear_model import LogisticRegression\n",
    "logReg = LogisticRegression() # default model logReg = LogisticRegression(multi_class='ovr') = logReg = LogisticRegression()\n",
    "#logReg.fit(x_train,y_train)\n",
    "logReg.fit(x,y)\n",
    "#predicts_logReg = logReg.predict(x_test)\n",
    "predicts_logReg = logReg.predict([rgb2grey(img)])\n",
    "#accuracy_logReg = metrics.accuracy_score(y_test,predicts_logReg)\n",
    "#print(accuracy_logReg)\n",
    "print(predicts_logReg)\n"
   ]
  },
  {
   "cell_type": "code",
   "execution_count": null,
   "id": "40491ad1",
   "metadata": {},
   "outputs": [],
   "source": []
  }
 ],
 "metadata": {
  "kernelspec": {
   "display_name": "Python 3 (ipykernel)",
   "language": "python",
   "name": "python3"
  },
  "language_info": {
   "codemirror_mode": {
    "name": "ipython",
    "version": 3
   },
   "file_extension": ".py",
   "mimetype": "text/x-python",
   "name": "python",
   "nbconvert_exporter": "python",
   "pygments_lexer": "ipython3",
   "version": "3.9.5"
  }
 },
 "nbformat": 4,
 "nbformat_minor": 5
}
